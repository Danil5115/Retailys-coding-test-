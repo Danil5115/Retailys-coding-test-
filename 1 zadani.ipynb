{
 "cells": [
  {
   "cell_type": "markdown",
   "metadata": {},
   "source": [
    "<p>1. Kolik je tam produktů.</p>\n",
    "<p>Kód prohledá soubor XML, vyhledá prvky <item>, které představují produkty, a uloží každý produkt do slovníku. Tento slovník používá jako klíč jedinečný identifikátor výrobku (jako je kód výrobku), aby bylo zajištěno, že každý výrobek bude uložen pouze jednou. Po dokončení vypíše počet jedinečných výrobků spočítáním počtu záznamů ve slovníku.</p>\n",
    "<p>Používám vyhledávání pomocí \"kódu\", abych eliminoval opakování položek, které lze použít jako náhradní a jiné. V souhrnu máme počet výrobků</p>\n"
   ]
  },
  {
   "cell_type": "code",
   "execution_count": 1,
   "metadata": {},
   "outputs": [
    {
     "name": "stdout",
     "output_type": "stream",
     "text": [
      "Počet jedinečných produktů: 28712\n"
     ]
    }
   ],
   "source": [
    "import xml.etree.ElementTree as ET\n",
    "\n",
    "file_path = 'export_full.xml'\n",
    "\n",
    "# Parsování dokumentu XML\n",
    "tree = ET.parse(file_path)\n",
    "root = tree.getroot()\n",
    "\n",
    "# Vytvoření slovníku pro ukládání jedinečných produktů\n",
    "unique_products = {}\n",
    "\n",
    "# Najdu všechny prvky <item> a uložim je do slovníku\n",
    "for item in root.findall('.//item'):\n",
    "    code = item.attrib.get('code')\n",
    "    if code not in unique_products:\n",
    "        unique_products[code] = item\n",
    "\n",
    "# Výpis počtu jedinečných produktů\n",
    "unique_product_count = len(unique_products)\n",
    "print(f\"Počet jedinečných produktů: {unique_product_count}\")\n",
    "\n"
   ]
  }
 ],
 "metadata": {
  "kernelspec": {
   "display_name": "Python 3",
   "language": "python",
   "name": "python3"
  },
  "language_info": {
   "codemirror_mode": {
    "name": "ipython",
    "version": 3
   },
   "file_extension": ".py",
   "mimetype": "text/x-python",
   "name": "python",
   "nbconvert_exporter": "python",
   "pygments_lexer": "ipython3",
   "version": "3.11.0"
  }
 },
 "nbformat": 4,
 "nbformat_minor": 2
}
